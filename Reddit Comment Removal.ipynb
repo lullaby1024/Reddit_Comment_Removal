{
 "cells": [
  {
   "cell_type": "markdown",
   "metadata": {},
   "source": [
    "# Task 1 Bag of Words and simple Features\n",
    "## 1.1 \n",
    "Create a baseline model using a bag-of-words approach and a linear model."
   ]
  },
  {
   "cell_type": "code",
   "execution_count": 1,
   "metadata": {},
   "outputs": [],
   "source": [
    "import matplotlib.pyplot as plt\n",
    "import numpy as np\n",
    "import pandas as pd\n",
    "import math\n",
    "\n",
    "%matplotlib inline"
   ]
  },
  {
   "cell_type": "code",
   "execution_count": 2,
   "metadata": {},
   "outputs": [],
   "source": [
    "train = pd.read_csv('reddit_200k_train.csv', encoding='latin1').fillna(' ')\n",
    "test = pd.read_csv('reddit_200k_test.csv', encoding='latin1').fillna(' ')"
   ]
  },
  {
   "cell_type": "code",
   "execution_count": 3,
   "metadata": {},
   "outputs": [
    {
     "name": "stdout",
     "output_type": "stream",
     "text": [
      "<class 'pandas.core.frame.DataFrame'>\n",
      "RangeIndex: 167529 entries, 0 to 167528\n",
      "Data columns (total 8 columns):\n",
      "Unnamed: 0       167529 non-null int64\n",
      "body             167529 non-null object\n",
      "score.x          167529 non-null int64\n",
      "parent_id.x      167529 non-null object\n",
      "id               167529 non-null object\n",
      "created_utc.x    167529 non-null int64\n",
      "retrieved_on     167529 non-null int64\n",
      "REMOVED          167529 non-null bool\n",
      "dtypes: bool(1), int64(4), object(3)\n",
      "memory usage: 9.1+ MB\n"
     ]
    }
   ],
   "source": [
    "train.info()"
   ]
  },
  {
   "cell_type": "code",
   "execution_count": 4,
   "metadata": {},
   "outputs": [
    {
     "data": {
      "text/html": [
       "<div>\n",
       "<style scoped>\n",
       "    .dataframe tbody tr th:only-of-type {\n",
       "        vertical-align: middle;\n",
       "    }\n",
       "\n",
       "    .dataframe tbody tr th {\n",
       "        vertical-align: top;\n",
       "    }\n",
       "\n",
       "    .dataframe thead th {\n",
       "        text-align: right;\n",
       "    }\n",
       "</style>\n",
       "<table border=\"1\" class=\"dataframe\">\n",
       "  <thead>\n",
       "    <tr style=\"text-align: right;\">\n",
       "      <th></th>\n",
       "      <th>Unnamed: 0</th>\n",
       "      <th>score.x</th>\n",
       "      <th>created_utc.x</th>\n",
       "      <th>retrieved_on</th>\n",
       "    </tr>\n",
       "  </thead>\n",
       "  <tbody>\n",
       "    <tr>\n",
       "      <th>count</th>\n",
       "      <td>167529.000000</td>\n",
       "      <td>167529.000000</td>\n",
       "      <td>1.675290e+05</td>\n",
       "      <td>1.675290e+05</td>\n",
       "    </tr>\n",
       "    <tr>\n",
       "      <th>mean</th>\n",
       "      <td>83765.000000</td>\n",
       "      <td>41.251676</td>\n",
       "      <td>1.511525e+09</td>\n",
       "      <td>1.513583e+09</td>\n",
       "    </tr>\n",
       "    <tr>\n",
       "      <th>std</th>\n",
       "      <td>48361.600961</td>\n",
       "      <td>356.321130</td>\n",
       "      <td>1.604385e+07</td>\n",
       "      <td>1.657645e+07</td>\n",
       "    </tr>\n",
       "    <tr>\n",
       "      <th>min</th>\n",
       "      <td>1.000000</td>\n",
       "      <td>-190.000000</td>\n",
       "      <td>1.483229e+09</td>\n",
       "      <td>1.485680e+09</td>\n",
       "    </tr>\n",
       "    <tr>\n",
       "      <th>25%</th>\n",
       "      <td>41883.000000</td>\n",
       "      <td>0.000000</td>\n",
       "      <td>1.497476e+09</td>\n",
       "      <td>1.499352e+09</td>\n",
       "    </tr>\n",
       "    <tr>\n",
       "      <th>50%</th>\n",
       "      <td>83765.000000</td>\n",
       "      <td>2.000000</td>\n",
       "      <td>1.511533e+09</td>\n",
       "      <td>1.512960e+09</td>\n",
       "    </tr>\n",
       "    <tr>\n",
       "      <th>75%</th>\n",
       "      <td>125647.000000</td>\n",
       "      <td>7.000000</td>\n",
       "      <td>1.525543e+09</td>\n",
       "      <td>1.527118e+09</td>\n",
       "    </tr>\n",
       "    <tr>\n",
       "      <th>max</th>\n",
       "      <td>167529.000000</td>\n",
       "      <td>32740.000000</td>\n",
       "      <td>1.538350e+09</td>\n",
       "      <td>1.539713e+09</td>\n",
       "    </tr>\n",
       "  </tbody>\n",
       "</table>\n",
       "</div>"
      ],
      "text/plain": [
       "          Unnamed: 0        score.x  created_utc.x  retrieved_on\n",
       "count  167529.000000  167529.000000   1.675290e+05  1.675290e+05\n",
       "mean    83765.000000      41.251676   1.511525e+09  1.513583e+09\n",
       "std     48361.600961     356.321130   1.604385e+07  1.657645e+07\n",
       "min         1.000000    -190.000000   1.483229e+09  1.485680e+09\n",
       "25%     41883.000000       0.000000   1.497476e+09  1.499352e+09\n",
       "50%     83765.000000       2.000000   1.511533e+09  1.512960e+09\n",
       "75%    125647.000000       7.000000   1.525543e+09  1.527118e+09\n",
       "max    167529.000000   32740.000000   1.538350e+09  1.539713e+09"
      ]
     },
     "execution_count": 4,
     "metadata": {},
     "output_type": "execute_result"
    }
   ],
   "source": [
    "train.describe()"
   ]
  },
  {
   "cell_type": "markdown",
   "metadata": {},
   "source": [
    "Note that since we have an **imbalanced** setting for the training set, we will use ROC-AUC as performance metric."
   ]
  },
  {
   "cell_type": "code",
   "execution_count": 5,
   "metadata": {},
   "outputs": [
    {
     "name": "stdout",
     "output_type": "stream",
     "text": [
      "Train class balance: [102791  64738]\n",
      "Test class balance: [34565 21278]\n"
     ]
    }
   ],
   "source": [
    "print('Train class balance:', np.bincount(train['REMOVED']))\n",
    "print('Test class balance:', np.bincount(test['REMOVED']))"
   ]
  },
  {
   "cell_type": "markdown",
   "metadata": {},
   "source": [
    "**Objective**: what features are most predictive of popular comments getting removed?\n",
    "  - `X`: comments\n",
    "  - `y`: whether comments are removed. \n",
    "      - We converted the boolean variable to binary so that `True` = 1 and `False` = 0"
   ]
  },
  {
   "cell_type": "code",
   "execution_count": 6,
   "metadata": {},
   "outputs": [],
   "source": [
    "X_train = train['body']\n",
    "y_train = np.array(train['REMOVED'].astype(int)).reshape(-1, 1)\n",
    "X_test = test['body']\n",
    "y_test = np.array(test['REMOVED'].astype(int)).reshape(-1, 1)"
   ]
  },
  {
   "cell_type": "code",
   "execution_count": 38,
   "metadata": {},
   "outputs": [],
   "source": [
    "from sklearn.feature_extraction.text import TfidfVectorizer\n",
    "from sklearn.linear_model import LogisticRegression\n",
    "from sklearn.pipeline import make_pipeline\n",
    "from sklearn.preprocessing import Normalizer\n",
    "# from sklearn.model_selection import GridSearchCV\n",
    "from dabl.search import GridSuccessiveHalving\n",
    "# from sklearn.metrics import roc_auc_score\n",
    "\n",
    "import warnings\n",
    "warnings.filterwarnings('ignore')\n",
    "\n",
    "def fit_model(X_train, y_train, method=None):\n",
    "    \"\"\"\n",
    "    :param method: (for task 1.2) method to tune \n",
    "    ('n-grams','characters', 'tf-idf', 'combined')\n",
    "    \"\"\"\n",
    "    \n",
    "    if method is not None:\n",
    "        pipe = make_pipeline(TfidfVectorizer(stop_words='english', \n",
    "                                             min_df=4,\n",
    "                                             max_features=50000,\n",
    "                                             use_idf=False), \n",
    "                             LogisticRegression(),\n",
    "                             memory='cache_folder')\n",
    "        if method == 'tf_idf':\n",
    "            param_grid = {'logisticregression__C': [0.01, 1, 10, 100],\n",
    "                          'tfidfvectorizer__use_idf': (True, False),\n",
    "                          'tfidfvectorizer__sublinear_tf': (True, False)}\n",
    "            pipe = make_pipeline(TfidfVectorizer(stop_words='english', \n",
    "                                                 min_df=4,\n",
    "                                                 max_features=50000),\n",
    "                                 LogisticRegression(),\n",
    "                                 memory='cache_folder')             \n",
    "        if method == 'characters':\n",
    "            param_grid = {'logisticregression__C': [0.01, 0.1, 1, 10],\n",
    "                          'tfidfvectorizer__analyzer': ['word', 'char', 'char_wb']}\n",
    "        if method == 'n_grams':\n",
    "            param_grid = {'logisticregression__C': [0.01, 0.1, 1, 10],\n",
    "                          'tfidfvectorizer__ngram_range': [(1, 1), (1, 2), (2, 3)]}\n",
    "        if method == \"combined\":\n",
    "            param_grid = {'logisticregression__C': [0.01, 0.1, 1, 10],\n",
    "                          'tfidfvectorizer__ngram_range': [(1, 1), (1, 2)],\n",
    "                          'tfidfvectorizer__sublinear_tf': (True, False)}   \n",
    "    else:\n",
    "        param_grid = {'logisticregression__C': [0.01, 0.1, 1, 10]}\n",
    "        pipe = make_pipeline(TfidfVectorizer(stop_words='english', \n",
    "                                             norm=None,\n",
    "                                             min_df=4,\n",
    "                                             max_features=50000,\n",
    "                                             use_idf=False), \n",
    "                             LogisticRegression(),\n",
    "                             memory='cache_folder')\n",
    "    \n",
    "    grid = GridSuccessiveHalving(pipe, param_grid, scoring='roc_auc', n_jobs=-1, cv=5)\n",
    "    grid.fit(X_train, y_train)\n",
    "    \n",
    "    print('Best parameter(s): ', grid.best_params_)\n",
    "    print('Train ROC-AUC: ', grid.best_score_)\n",
    "    \n",
    "#     Evaluate on test set\n",
    "#     y_pred = grid.predict_proba(X_test)[:, 1]\n",
    "#     test_score = roc_auc_score(y_test, y_pred)\n",
    "#     print('Test ROC-AUC: ', test_score)\n",
    "    \n",
    "    return grid"
   ]
  },
  {
   "cell_type": "code",
   "execution_count": 39,
   "metadata": {},
   "outputs": [
    {
     "name": "stdout",
     "output_type": "stream",
     "text": [
      "Best parameter(s):  {'logisticregression__C': 0.1}\n",
      "Train ROC-AUC:  0.753314367159694\n"
     ]
    }
   ],
   "source": [
    "grid_base = fit_model(X_train, y_train)"
   ]
  },
  {
   "cell_type": "markdown",
   "metadata": {},
   "source": [
    "- The baseline BoW model\n",
    "    - Logistic Regression model (C = 0.1)\n",
    "    - Preprocessing \n",
    "        - Restricts stop words and infrequent words.\n",
    "            - stop_words='english', min_df=4, max_features=50000\n",
    "        - No normalization\n",
    "    - ROC-AUC = 0.753314367159694\n",
    "- Based on the best model, we display the top 30 largest negative/positive coefficients to show feature importance. "
   ]
  },
  {
   "cell_type": "code",
   "execution_count": 40,
   "metadata": {},
   "outputs": [],
   "source": [
    "%matplotlib inline\n",
    "def plot_coef(coef, feature_names, top_features=30, title=None):\n",
    "    \"\"\"\n",
    "    :params coef: Coefficients to plot.\n",
    "    :params feature_names: Feature names.\n",
    "    :params top_features: Top n features to plot; default=30.\n",
    "    \"\"\"\n",
    "    top_pos_coef = np.argsort(coef)[-top_features:]\n",
    "    top_neg_coef = np.argsort(coef)[:top_features]\n",
    "    top_coef = np.hstack([top_neg_coef, top_pos_coef])\n",
    "    feature_names = np.array(feature_names)\n",
    "    \n",
    "    colors = ['red' if c < 0 else 'blue' for c in coef[top_coef]]     \n",
    "    _ = plt.figure(figsize=(20, 8)) \n",
    "    _ = plt.bar(np.arange(2 * top_features), coef[top_coef], color=colors) \n",
    "    _ = plt.xticks(np.arange(1, 1 + 2 * top_features), \n",
    "                   feature_names[top_coef], rotation=60, ha='right')\n",
    "    _ = plt.xlabel('Features')\n",
    "    _ = plt.ylabel('Coefficients')\n",
    "    _ = plt.title(title)"
   ]
  },
  {
   "cell_type": "code",
   "execution_count": 43,
   "metadata": {},
   "outputs": [
    {
     "data": {
      "image/png": "[encoded data removed]",
      "text/plain": [
       "<Figure size 1440x576 with 1 Axes>"
      ]
     },
     "metadata": {
      "needs_background": "light"
     },
     "output_type": "display_data"
    }
   ],
   "source": [
    "# Collect all feature names\n",
    "tfidf_base = TfidfVectorizer(stop_words='english', \n",
    "                        min_df=4, \n",
    "                        norm=None,\n",
    "                        max_features=50000, \n",
    "                        use_idf=False)\n",
    "tfidf_base.fit_transform(X_train)\n",
    "feature_names_base = tfidf_base.get_feature_names()\n",
    "\n",
    "model_base = make_pipeline(tfidf_base, LogisticRegression(C=1), memory='cache_folder')\n",
    "model_base.fit(X_train, y_train)\n",
    "\n",
    "# Collect coefficients\n",
    "coef_base = model_base.named_steps['logisticregression'].coef_[0]\n",
    "\n",
    "plot_coef(coef_base, feature_names_base, title='Baseline Model')"
   ]
  },
  {
   "cell_type": "markdown",
   "metadata": {},
   "source": [
    "- Initial observations\n",
    "    - The following comments are more likely to be deleted:\n",
    "        - Meaningless and repetitive comments: e.g., `upvoted`\n",
    "        - Socially sensitive comments: e.g., `rapes`\n",
    "        - Socially progressive comments: e.g., `feminists` and `sjws`\n",
    "        - Politically sensitive comments: e.g., `hitler`\n",
    "        - Comments involving swear words: e.g., `fucking`, `bitches` and `hogwash`\n",
    "    - On the other hand, the comments that are less likely to be removed only contain auxiliaries.\n",
    "    - Additional remarks\n",
    "        - Some Unicode characters are distorted when encoding. \n",
    "            - Most tokenized features with positive coefficients contain the special character\"Â\", which represents the non-breaking spaces from the HTML template (the &nbsp;s). \n",
    "            - Some features with large negative coefficients, such as `0001f914`, `0001f602` and `fe0f`."
   ]
  },
  {
   "cell_type": "markdown",
   "metadata": {},
   "source": [
    "## 1.2 \n",
    "Try using n-grams, characters, tf-idf rescaling and possibly other ways to tune the BoW model. Be aware that you might need to adjust the (regularization of the) linear model for different feature sets."
   ]
  },
  {
   "cell_type": "markdown",
   "metadata": {},
   "source": [
    "### tf-idf"
   ]
  },
  {
   "cell_type": "code",
   "execution_count": 9,
   "metadata": {},
   "outputs": [
    {
     "name": "stdout",
     "output_type": "stream",
     "text": [
      "Best parameter(s):  {'logisticregression__C': 1, 'tfidfvectorizer__sublinear_tf': True, 'tfidfvectorizer__use_idf': False}\n",
      "Train ROC-AUC:  0.7644694415676356\n"
     ]
    }
   ],
   "source": [
    "grid_tfidf = fit_model(X_train, y_train, method='tf_idf')"
   ]
  },
  {
   "cell_type": "markdown",
   "metadata": {},
   "source": [
    "### Characters"
   ]
  },
  {
   "cell_type": "code",
   "execution_count": 10,
   "metadata": {},
   "outputs": [
    {
     "name": "stdout",
     "output_type": "stream",
     "text": [
      "Best parameter(s):  {'logisticregression__C': 1, 'tfidfvectorizer__analyzer': 'word'}\n",
      "Train ROC-AUC:  0.7632738828461448\n"
     ]
    }
   ],
   "source": [
    "grid_char = fit_model(X_train, y_train, method='characters')"
   ]
  },
  {
   "cell_type": "markdown",
   "metadata": {},
   "source": [
    "### N-grams"
   ]
  },
  {
   "cell_type": "code",
   "execution_count": 11,
   "metadata": {},
   "outputs": [
    {
     "name": "stdout",
     "output_type": "stream",
     "text": [
      "Best parameter(s):  {'logisticregression__C': 1, 'tfidfvectorizer__ngram_range': (1, 2)}\n",
      "Train ROC-AUC:  0.7664128822798487\n"
     ]
    }
   ],
   "source": [
    "grid_ngrams = fit_model(X_train, y_train, method='n_grams')"
   ]
  },
  {
   "cell_type": "markdown",
   "metadata": {},
   "source": [
    "### Combined"
   ]
  },
  {
   "cell_type": "code",
   "execution_count": 14,
   "metadata": {},
   "outputs": [
    {
     "name": "stdout",
     "output_type": "stream",
     "text": [
      "Best parameter(s):  {'logisticregression__C': 1, 'tfidfvectorizer__ngram_range': (1, 2), 'tfidfvectorizer__sublinear_tf': True}\n",
      "Train ROC-AUC:  0.7669171468063567\n"
     ]
    }
   ],
   "source": [
    "grid_combined = fit_model(X_train, y_train, method='combined')"
   ]
  },
  {
   "cell_type": "markdown",
   "metadata": {},
   "source": [
    "### Best model and feature selection"
   ]
  },
  {
   "cell_type": "markdown",
   "metadata": {},
   "source": [
    "- The best model has the following parameters with ROC-AUC = 0.7669171468063567:\n",
    "    - C = 1\n",
    "    - ngram_range=(1, 2): 1-2 gram vocabulary size\n",
    "    - sublinear_tf=True: logarithmic term frequency \n",
    "- Based on the best model, we display the top 30 largest negative/positive coefficients to show feature importance. "
   ]
  },
  {
   "cell_type": "code",
   "execution_count": 22,
   "metadata": {},
   "outputs": [],
   "source": [
    "# Collect all feature names\n",
    "tfidf = TfidfVectorizer(stop_words='english', \n",
    "                        min_df=4, \n",
    "                        max_features=50000, \n",
    "                        use_idf=False,\n",
    "                        sublinear_tf=True,\n",
    "                        ngram_range=(1, 2))\n",
    "tfidf.fit_transform(X_train)\n",
    "feature_names = tfidf.get_feature_names()\n",
    "\n",
    "# Fit the best model\n",
    "model = make_pipeline(tfidf, LogisticRegression(C=1), memory='cache_folder')\n",
    "model.fit(X_train, y_train)\n",
    "\n",
    "# Collect coefficients\n",
    "coef = model.named_steps['logisticregression'].coef_[0]"
   ]
  },
  {
   "cell_type": "code",
   "execution_count": 64,
   "metadata": {},
   "outputs": [
    {
     "data": {
      "image/png": "[encoded data removed]",
      "text/plain": [
       "<Figure size 1440x576 with 1 Axes>"
      ]
     },
     "metadata": {
      "needs_background": "light"
     },
     "output_type": "display_data"
    }
   ],
   "source": [
    "plot_coef(coef, feature_names, title='Tuned Model')"
   ]
  },
  {
   "cell_type": "markdown",
   "metadata": {},
   "source": [
    "- Observations\n",
    "    - The following comments are more likely to be deleted:\n",
    "        - Meaningless and repetitive comments: e.g., `upvote` and `upvoted` \n",
    "        - Socially sensitive comments: e.g., `commit suicide`\n",
    "        - Socially progressive comments: e.g., `feminists`\n",
    "        - Politically sensitive comments: e.g., `liberals`, `hitler`, and `hillary`\n",
    "        - Racially sensitive comments (not in baseline model): e.g., `blacks` and `neanderthal`\n",
    "        - Comments involving swear words such as `fuck` and `ass`\n",
    "        - Comments with `jpg` attachments (not in baseline model)\n",
    "    - On the other hand, the comments that are less likely to be removed contain \n",
    "        - Auxiliaries \n",
    "        - Neutral or positive words (not in baseline model): e.g., `abstract`, `curious`, `insects` and `hobbies`\n",
    "    - Additional remarks\n",
    "        - Like baseline model, some Unicode characters are distorted when encoding. "
   ]
  },
  {
   "cell_type": "markdown",
   "metadata": {},
   "source": [
    "## 1.3 \n",
    "Explore other features you can derive from the text, such as html, length, punctuation, capitalization or other features you deem important from exploring the dataset."
   ]
  },
  {
   "cell_type": "code",
   "execution_count": 57,
   "metadata": {},
   "outputs": [],
   "source": [
    "from scipy.sparse import hstack\n",
    "from scipy.sparse import csr_matrix\n",
    "\n",
    "def fit_model_derived(X_train, y_train, derived=None):\n",
    "    \"\"\"\n",
    "    :param derived: derived feature obtained using \n",
    "    'punctuation', 'capital', 'length_doc', 'url'\n",
    "    \"\"\"\n",
    "    \n",
    "    tfidf = TfidfVectorizer(stop_words='english', min_df=4, max_features=50000, \n",
    "                            ngram_range=(1, 2), use_idf=False, sublinear_tf=True)\n",
    "    tfidf.fit(X_train)\n",
    "    X_train_trans = tfidf.transform(X_train) \n",
    "    \n",
    "    if derived != 'combined':\n",
    "        if derived == 'punctuation':\n",
    "            X_train_derived = X_train.str.findall(r'[!?*]').str.len()   \n",
    "        if derived == 'capital':\n",
    "            X_train_derived = X_train.str.findall(r'[A-Z]').str.len()        \n",
    "        if derived == 'length_doc':  \n",
    "            X_train_derived = X_train.str.len() \n",
    "        if derived == 'url':\n",
    "            url_pattern = r'/^(https?:\\/\\/)?([\\da-z\\.-]+)\\.([a-z\\.]{2,6})([\\/\\w \\.-]*)*\\/?$/'\n",
    "            X_train_derived = X_train.str.contains(url_pattern) \n",
    "    \n",
    "        # Need to take the transpose as we only have 1D-array.\n",
    "        X_train_new = hstack([X_train_trans, csr_matrix(X_train_derived).T]) \n",
    "        \n",
    "    else:\n",
    "        X_train_punc = X_train.str.findall(r'[!?*]').str.len()\n",
    "        X_train_cap = X_train.str.findall(r'[A-Z]').str.len() \n",
    "        url_pattern = r'/^(https?:\\/\\/)?([\\da-z\\.-]+)\\.([a-z\\.]{2,6})([\\/\\w \\.-]*)*\\/?$/'\n",
    "        # Change dtype to int as csr_matrix can only apply to one dtype.\n",
    "        X_train_url = X_train.str.contains(url_pattern).astype(int) \n",
    "        \n",
    "        X_train_derived = pd.concat([X_train_punc, X_train_cap, X_train_url], \n",
    "                                    ignore_index=True, axis=1)\n",
    "    \n",
    "        X_train_new = hstack([X_train_trans, csr_matrix(X_train_derived)]) \n",
    "        \n",
    "    param_grid = {'C': [0.1, 1, 10, 100]}\n",
    "    grid = GridSuccessiveHalving(LogisticRegression(), param_grid, \n",
    "                                 scoring='roc_auc', n_jobs=-1, cv=5)\n",
    "    grid.fit(X_train_new, y_train)\n",
    "    \n",
    "    print('Best parameter(s): ', grid.best_params_)\n",
    "    print('ROC-AUC: ', grid.best_score_)\n",
    "    \n",
    "    return grid"
   ]
  },
  {
   "cell_type": "markdown",
   "metadata": {},
   "source": [
    "### Punctuation frequency\n",
    "- Counts of '!', '?', '*'"
   ]
  },
  {
   "cell_type": "code",
   "execution_count": 32,
   "metadata": {},
   "outputs": [
    {
     "name": "stdout",
     "output_type": "stream",
     "text": [
      "Best parameter(s):  {'C': 1}\n",
      "ROC-AUC:  0.7674636744586373\n"
     ]
    }
   ],
   "source": [
    "grid_punc, X_train_punc = fit_model_derived(X_train, y_train, derived='punctuation')"
   ]
  },
  {
   "cell_type": "markdown",
   "metadata": {},
   "source": [
    "### Capital frequency\n",
    "- Counts of capital letters"
   ]
  },
  {
   "cell_type": "code",
   "execution_count": 33,
   "metadata": {},
   "outputs": [
    {
     "name": "stdout",
     "output_type": "stream",
     "text": [
      "Best parameter(s):  {'C': 1}\n",
      "ROC-AUC:  0.7673734642750238\n"
     ]
    }
   ],
   "source": [
    "grid_cap = fit_model_derived(X_train, y_train, derived='capital')"
   ]
  },
  {
   "cell_type": "markdown",
   "metadata": {},
   "source": [
    "### Length of document"
   ]
  },
  {
   "cell_type": "code",
   "execution_count": 34,
   "metadata": {},
   "outputs": [
    {
     "name": "stdout",
     "output_type": "stream",
     "text": [
      "Best parameter(s):  {'C': 10}\n",
      "ROC-AUC:  0.758755819386639\n"
     ]
    }
   ],
   "source": [
    "grid_length_doc = fit_model_derived(X_train, y_train, derived='length_doc')"
   ]
  },
  {
   "cell_type": "markdown",
   "metadata": {},
   "source": [
    "### Presence of url\n",
    "- Whether the document contains url. \n",
    "- Boolean variable."
   ]
  },
  {
   "cell_type": "code",
   "execution_count": 35,
   "metadata": {},
   "outputs": [
    {
     "name": "stdout",
     "output_type": "stream",
     "text": [
      "Best parameter(s):  {'C': 1}\n",
      "ROC-AUC:  0.7667499564818945\n"
     ]
    }
   ],
   "source": [
    "grid_url = fit_model_derived(X_train, y_train, derived='url')"
   ]
  },
  {
   "cell_type": "markdown",
   "metadata": {},
   "source": [
    "### Combined"
   ]
  },
  {
   "cell_type": "code",
   "execution_count": 36,
   "metadata": {},
   "outputs": [
    {
     "name": "stdout",
     "output_type": "stream",
     "text": [
      "Best parameter(s):  {'C': 1}\n",
      "ROC-AUC:  0.7678179485333205\n"
     ]
    }
   ],
   "source": [
    "grid_combined_der = fit_model_derived(X_train, y_train, derived='combined')"
   ]
  },
  {
   "cell_type": "markdown",
   "metadata": {},
   "source": [
    "### Best model and feature selection\n",
    "- The best model has the following parameters with ROC-AUC = 0.7678179485333205:\n",
    "    - C = 1\n",
    "    - ngram_range=(1, 2): 1-2 gram vocabulary size\n",
    "    - sublinear_tf=True: logarithmic term frequency\n",
    "- The derived features added to the original feature are:\n",
    "    - Punctuation frequency\n",
    "    - Capital frequency\n",
    "    - Presence of url\n",
    "- Based on the best model, we display the top 30 largest negative/positive coefficients to show feature importance. "
   ]
  },
  {
   "cell_type": "code",
   "execution_count": 60,
   "metadata": {},
   "outputs": [],
   "source": [
    "# Collect all feature names\n",
    "feature_names_der = np.concatenate((feature_names, \n",
    "                                    ['punc_freq', 'cap_freq', 'include_url']), axis=None)\n",
    "\n",
    "# Collect coefficients\n",
    "coef_der = grid_combined_der.best_estimator_.coef_[0]"
   ]
  },
  {
   "cell_type": "code",
   "execution_count": 63,
   "metadata": {},
   "outputs": [
    {
     "data": {
      "image/png": "[encoded data removed]",
      "text/plain": [
       "<Figure size 1440x576 with 1 Axes>"
      ]
     },
     "metadata": {
      "needs_background": "light"
     },
     "output_type": "display_data"
    }
   ],
   "source": [
    "plot_coef(coef_der, feature_names_der, title='Tuned Model with Derived Features')"
   ]
  },
  {
   "cell_type": "markdown",
   "metadata": {},
   "source": [
    "- Remark\n",
    "    - The pattern for comment removal does not change too much from the best model in part 1.2. The three derived features do not show in the above plot, so that they are not so important for prediction. Indeed, the two models only vary a little in ROC-AUC score."
   ]
  },
  {
   "cell_type": "markdown",
   "metadata": {},
   "source": [
    "# Task 2 Word Vectors\n",
    "Use a pretrained word-embedding (word2vec, glove or fasttext) instead of the bag-of-words model. Does this improve classification?"
   ]
  },
  {
   "cell_type": "code",
   "execution_count": 66,
   "metadata": {},
   "outputs": [],
   "source": [
    "import gensim\n",
    "from gensim import corpora, models\n",
    "\n",
    "w = models.KeyedVectors.load_word2vec_format(\n",
    "    'https://s3.amazonaws.com/dl4j-distribution/GoogleNews-vectors-negative300.bin.gz', \n",
    "    binary = True)"
   ]
  },
  {
   "cell_type": "code",
   "execution_count": 74,
   "metadata": {},
   "outputs": [],
   "source": [
    "from sklearn.feature_extraction.text import CountVectorizer\n",
    "\n",
    "vect_w2v = CountVectorizer(vocabulary = w.index2word)\n",
    "vect_w2v.fit(X_train)\n",
    "docs = vect_w2v.inverse_transform(vect_w2v.transform(X_train))"
   ]
  },
  {
   "cell_type": "code",
   "execution_count": 75,
   "metadata": {},
   "outputs": [
    {
     "data": {
      "text/plain": [
       "(167529, 300)"
      ]
     },
     "execution_count": 75,
     "metadata": {},
     "output_type": "execute_result"
    }
   ],
   "source": [
    "X_train_w2v = []\n",
    "\n",
    "for i in docs:\n",
    "    if len(i) == 0: X_train_w2v.append(np.zeros(300))\n",
    "    else:\n",
    "        X_train_w2v.append(np.mean(w[i], axis = 0))\n",
    "        \n",
    "X_train_w2v = np.asarray(X_train_w2v)\n",
    "X_train_w2v.shape"
   ]
  },
  {
   "cell_type": "code",
   "execution_count": 70,
   "metadata": {},
   "outputs": [],
   "source": [
    "docs_test = vect_w2v.inverse_transform(vect_w2v.transform(X_test))\n",
    "\n",
    "X_test_w2v = []\n",
    "for i in docs_test:\n",
    "    if len(i) == 0: X_test_w2v.append(np.zeros(300))\n",
    "    else:\n",
    "        X_test_w2v.append(np.mean(w[i], axis = 0))"
   ]
  },
  {
   "cell_type": "code",
   "execution_count": 71,
   "metadata": {},
   "outputs": [
    {
     "name": "stdout",
     "output_type": "stream",
     "text": [
      "Best parameter:  {'C': 1}\n",
      "ROC-AUC:  0.7281880909523222\n"
     ]
    }
   ],
   "source": [
    "param_w2v = {'C': [0.1, 1, 10, 100]}\n",
    "grid_w2v = GridSuccessiveHalving(LogisticRegression(), param_w2v, \n",
    "                                 scoring='roc_auc', n_jobs=-1, cv=5)\n",
    "grid_w2v.fit(X_train_w2v, y_train)\n",
    "\n",
    "print('Best parameter: ', grid_w2v.best_params_)\n",
    "print('ROC-AUC: ', grid_w2v.best_score_)"
   ]
  },
  {
   "cell_type": "markdown",
   "metadata": {},
   "source": [
    "- Remark\n",
    "    - We can see that the model does NOT improve. This may due to the way we encode the dataset, which generates a lot of special characters along with the original word. Therefore, there might be mismatches with the vocabulary library, leading to a worse score.\n",
    "    - Nevertheless, we should note that theoretically, we shall expect better performance by Word2vec, as it captures semantics of words and synonymous words as skip-gram model. Using cosine distance, it preserves text similarities better than bag of words approach."
   ]
  }
 ],
 "metadata": {
  "kernelspec": {
   "display_name": "Python 3",
   "language": "python",
   "name": "python3"
  },
  "language_info": {
   "codemirror_mode": {
    "name": "ipython",
    "version": 3
   },
   "file_extension": ".py",
   "mimetype": "text/x-python",
   "name": "python",
   "nbconvert_exporter": "python",
   "pygments_lexer": "ipython3",
   "version": "3.7.2"
  }
 },
 "nbformat": 4,
 "nbformat_minor": 2
}
